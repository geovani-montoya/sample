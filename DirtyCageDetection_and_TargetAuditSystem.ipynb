{
  "nbformat": 4,
  "nbformat_minor": 0,
  "metadata": {
    "colab": {
      "name": "DirtyCageDetection_and_TargetAuditSystem.ipynb",
      "provenance": [],
      "collapsed_sections": []
    },
    "kernelspec": {
      "name": "python3",
      "display_name": "Python 3"
    }
  },
  "cells": [
    {
      "cell_type": "code",
      "metadata": {
        "id": "0vUdfTBoZQEV"
      },
      "source": [
        "import io\r\n",
        "import pandas as pd\r\n",
        "import numpy as np\r\n",
        "from google.colab import files\r\n",
        "import warnings\r\n",
        "import matplotlib.pyplot as plt\r\n",
        "from collections import Counter\r\n",
        "import operator\r\n",
        "from pandas.core.common import SettingWithCopyWarning\r\n",
        "warnings.simplefilter(action=\"ignore\", category=SettingWithCopyWarning)\r\n",
        "pd.set_option('display.max_rows', 100000)\r\n",
        "from collections import defaultdict\r\n",
        "from itertools import count"
      ],
      "execution_count": null,
      "outputs": []
    },
    {
      "cell_type": "code",
      "metadata": {
        "colab": {
          "resources": {
            "http://localhost:8080/nbextensions/google.colab/files.js": {
              "data": "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",
              "ok": true,
              "headers": [
                [
                  "content-type",
                  "application/javascript"
                ]
              ],
              "status": 200,
              "status_text": "OK"
            }
          },
          "base_uri": "https://localhost:8080/",
          "height": 73
        },
        "id": "SNJrv_qHZgoe",
        "outputId": "f74b6b40-423e-40d1-f844-c5f2e18959b2"
      },
      "source": [
        "uploaded = files.upload()"
      ],
      "execution_count": null,
      "outputs": [
        {
          "output_type": "display_data",
          "data": {
            "text/html": [
              "\n",
              "     <input type=\"file\" id=\"files-6e63acda-f489-414c-8891-b6c36c9b67b9\" name=\"files[]\" multiple disabled\n",
              "        style=\"border:none\" />\n",
              "     <output id=\"result-6e63acda-f489-414c-8891-b6c36c9b67b9\">\n",
              "      Upload widget is only available when the cell has been executed in the\n",
              "      current browser session. Please rerun this cell to enable.\n",
              "      </output>\n",
              "      <script src=\"/nbextensions/google.colab/files.js\"></script> "
            ],
            "text/plain": [
              "<IPython.core.display.HTML object>"
            ]
          },
          "metadata": {
            "tags": []
          }
        },
        {
          "output_type": "stream",
          "text": [
            "Saving 12_22_20_to_12_24_20.csv to 12_22_20_to_12_24_20.csv\n"
          ],
          "name": "stdout"
        }
      ]
    },
    {
      "cell_type": "code",
      "metadata": {
        "id": "UEI9Q1Z4bsev"
      },
      "source": [
        "move_history_df =  pd.read_csv(io.BytesIO(uploaded['12_22_20_to_12_24_20.csv']))"
      ],
      "execution_count": null,
      "outputs": []
    },
    {
      "cell_type": "code",
      "metadata": {
        "colab": {
          "base_uri": "https://localhost:8080/"
        },
        "id": "0LKxMoLqaEcX",
        "outputId": "298b4156-f07b-4e95-bc14-f4a26c7b56a4"
      },
      "source": [
        "def make_date_index(df):\r\n",
        "  df['move_date'] = pd.to_datetime(df['move_date'])\r\n",
        "  df.set_index('move_date', inplace=True)\r\n",
        "  return df.sort_values(by=['move_date'], inplace=False, ascending=True)  \r\n",
        "\r\n",
        "stow = move_history_df.loc[(move_history_df['requested_by_client'] == 'FCStowAppWebsite')]\r\n",
        "stow = make_date_index(stow)\r\n",
        "stow = stow.drop(columns= [\"region_id\", \"warehouse_id\"])\r\n",
        "stow = stow.drop_duplicates(subset='scannable_id', keep='last')\r\n",
        "stow.shape[0]"
      ],
      "execution_count": null,
      "outputs": [
        {
          "output_type": "execute_result",
          "data": {
            "text/plain": [
              "46266"
            ]
          },
          "metadata": {
            "tags": []
          },
          "execution_count": 7
        }
      ]
    },
    {
      "cell_type": "code",
      "metadata": {
        "id": "YyOPNOJScKSp"
      },
      "source": [
        "# Looking at case to cagers data\r\n",
        "# Create c2c_df by filtering move_history\r\n",
        "c2c_df = move_history_df.loc[move_history_df['requested_by_client'] == 'AFTMoveApp'].drop(columns= [\"region_id\", \"warehouse_id\"])\r\n",
        "\r\n",
        "# filtering to get \r\n",
        "c2c_clean = c2c_df.loc[(c2c_df['moved_from'] == 'ws-rcv-pid-1') | (c2c_df['moved_from'] == 'dz-R-idrt') | (c2c_df['moved_from'] == 'dz-P-emptypax') | (c2c_df['moved_from'] == None)].sort_values(by = 'move_date', ascending = True)"
      ],
      "execution_count": null,
      "outputs": []
    },
    {
      "cell_type": "code",
      "metadata": {
        "colab": {
          "base_uri": "https://localhost:8080/"
        },
        "id": "cS8eBEPpcS9s",
        "outputId": "9fc0c539-75cd-4f9c-f642-677e6e27faf2"
      },
      "source": [
        "# If all case to cagers were to scan the cases then the differenc would be zero\r\n",
        "# too simplistic to look at just the differences in numbers\r\n",
        "stow.shape[0] - c2c_clean.shape[0]"
      ],
      "execution_count": null,
      "outputs": [
        {
          "output_type": "execute_result",
          "data": {
            "text/plain": [
              "20206"
            ]
          },
          "metadata": {
            "tags": []
          },
          "execution_count": 9
        }
      ]
    },
    {
      "cell_type": "code",
      "metadata": {
        "colab": {
          "base_uri": "https://localhost:8080/"
        },
        "id": "6ENo0Lfzcdtw",
        "outputId": "e601ed84-7354-4856-85c2-230a7a9d6b11"
      },
      "source": [
        "# make a list of all the csXs\r\n",
        "stow_csX_ls = stow.scannable_id.to_list()\r\n",
        "c2c_csX_ls = c2c_clean.scannable_id.to_list()\r\n",
        "#get the common csX between stow and c2c\r\n",
        "common_csX = set(c2c_csX_ls).intersection(stow_csX_ls)\r\n",
        "len(common_csX)"
      ],
      "execution_count": null,
      "outputs": [
        {
          "output_type": "execute_result",
          "data": {
            "text/plain": [
              "24976"
            ]
          },
          "metadata": {
            "tags": []
          },
          "execution_count": 10
        }
      ]
    },
    {
      "cell_type": "code",
      "metadata": {
        "colab": {
          "base_uri": "https://localhost:8080/"
        },
        "id": "hpdHXw7hckUc",
        "outputId": "91734dc4-899d-4a24-dbee-4cc497053205"
      },
      "source": [
        "# take the difference between c2c and common\r\n",
        "c2c_clean.shape[0] - len(common_csX)"
      ],
      "execution_count": null,
      "outputs": [
        {
          "output_type": "execute_result",
          "data": {
            "text/plain": [
              "1084"
            ]
          },
          "metadata": {
            "tags": []
          },
          "execution_count": 11
        }
      ]
    },
    {
      "cell_type": "code",
      "metadata": {
        "colab": {
          "base_uri": "https://localhost:8080/"
        },
        "id": "2M8A2aW_cl_r",
        "outputId": "ea0a949c-0398-4f7e-fc03-7825a2e547a4"
      },
      "source": [
        "# Number of csX that are lost during this time\r\n",
        "unique_to_c2c = c2c_clean[~c2c_clean['scannable_id'].isin(common_csX)]\r\n",
        "unique_to_c2c = make_date_index(unique_to_c2c)\r\n",
        "unique_to_c2c.shape[0]"
      ],
      "execution_count": null,
      "outputs": [
        {
          "output_type": "execute_result",
          "data": {
            "text/plain": [
              "1035"
            ]
          },
          "metadata": {
            "tags": []
          },
          "execution_count": 13
        }
      ]
    },
    {
      "cell_type": "code",
      "metadata": {
        "colab": {
          "base_uri": "https://localhost:8080/"
        },
        "id": "9gyONMxYcsts",
        "outputId": "f0455e7f-969d-42f4-bba2-68cd2ec193ed"
      },
      "source": [
        "# these are the list of suspeced dirty cages\r\n",
        "unique_to_c2c.moved_to.unique()"
      ],
      "execution_count": null,
      "outputs": [
        {
          "output_type": "execute_result",
          "data": {
            "text/plain": [
              "array(['ve189', 've329', 've136', 've196', 've328', 've433', 've332',\n",
              "       've235', 've359', 've220', 've253', 've100', 've103', 've127',\n",
              "       've249', 've401', 've254', 've191', 've483', 've106', 've218',\n",
              "       've231', 've101', 've241', 've113', 've148', 've114', 've188',\n",
              "       've360', 've130', 've246', 've208', 've232', 've242', 've222',\n",
              "       've349', 've203', 've151', 've344', 've219', 've147', 've333',\n",
              "       've226', 've257', 've133', 've152', 've238', 've236', 've357',\n",
              "       've322', 've337', 've221', 've215', 've134', 've330', 've230',\n",
              "       've354', 've194', 've313', 've205', 'P-1-V192J470', 've303',\n",
              "       've217', 've256', 've190', 've142', 've225', 'P-1-V197L470',\n",
              "       've351', 've135', 'P-1-V190H402', 've496', 've145', 've195',\n",
              "       've320', 've239', 've310', 'P-1-V189G500', 'P-1-V188L492',\n",
              "       'P-1-V189L492', 've202', 've335', 've122', 've312',\n",
              "       'dz-P-research', 've339', 'dz-P-emptypax', 'dz-R-idrt', 've317',\n",
              "       've302', 've342', 've193', 've227', 've213', 've125', 've129',\n",
              "       've314', 've132', 've024', 've321', 've228', 've216', 've341',\n",
              "       've250', 've466', 've107', 've212', 've104', 've497', 've240'],\n",
              "      dtype=object)"
            ]
          },
          "metadata": {
            "tags": []
          },
          "execution_count": 14
        }
      ]
    },
    {
      "cell_type": "code",
      "metadata": {
        "id": "xpxpmpDlc6ww"
      },
      "source": [
        "# c2c_ref vehicle specific data for example purposes\r\n",
        "\r\n",
        "#ve = 've253' # got path\r\n",
        "#ve = 've332' # got path\r\n",
        "#ve = 've353' # These were each received and binded. double check on this later\r\n",
        "#ve = 've343' # got path\r\n",
        "#ve= 've152'   # got path\r\n",
        "#ve = 've226'  # two stowers two packages one is deleted the other doesnt exist\r\n",
        "#ve = 've329'\r\n",
        "ve = 've100'\r\n",
        "\r\n",
        "c2c_ref = unique_to_c2c[unique_to_c2c.moved_to == ve]\r\n",
        "c2c_ref.drop(columns = ['container_move_segment_id', 'container_type'], inplace= True)\r\n",
        "#make_date_index(c2c_ref)"
      ],
      "execution_count": null,
      "outputs": []
    },
    {
      "cell_type": "code",
      "metadata": {
        "colab": {
          "base_uri": "https://localhost:8080/"
        },
        "id": "2Bgx-86Vc-ou",
        "outputId": "728e3444-46d9-4581-ea3c-2da4837a4c4e"
      },
      "source": [
        "# c2c number of csX making vehicle dirty\r\n",
        "c2c_ref.shape[0]"
      ],
      "execution_count": null,
      "outputs": [
        {
          "output_type": "execute_result",
          "data": {
            "text/plain": [
              "7"
            ]
          },
          "metadata": {
            "tags": []
          },
          "execution_count": 48
        }
      ]
    },
    {
      "cell_type": "code",
      "metadata": {
        "colab": {
          "base_uri": "https://localhost:8080/",
          "height": 300
        },
        "id": "5zmG0odNdGSh",
        "outputId": "c0321672-bcac-47c9-dba5-3847475754a1"
      },
      "source": [
        "c2c_ref"
      ],
      "execution_count": null,
      "outputs": [
        {
          "output_type": "execute_result",
          "data": {
            "text/html": [
              "<div>\n",
              "<style scoped>\n",
              "    .dataframe tbody tr th:only-of-type {\n",
              "        vertical-align: middle;\n",
              "    }\n",
              "\n",
              "    .dataframe tbody tr th {\n",
              "        vertical-align: top;\n",
              "    }\n",
              "\n",
              "    .dataframe thead th {\n",
              "        text-align: right;\n",
              "    }\n",
              "</style>\n",
              "<table border=\"1\" class=\"dataframe\">\n",
              "  <thead>\n",
              "    <tr style=\"text-align: right;\">\n",
              "      <th></th>\n",
              "      <th>scannable_id</th>\n",
              "      <th>moved_from</th>\n",
              "      <th>moved_to</th>\n",
              "      <th>requested_by_client</th>\n",
              "      <th>moved_by</th>\n",
              "    </tr>\n",
              "    <tr>\n",
              "      <th>move_date</th>\n",
              "      <th></th>\n",
              "      <th></th>\n",
              "      <th></th>\n",
              "      <th></th>\n",
              "      <th></th>\n",
              "    </tr>\n",
              "  </thead>\n",
              "  <tbody>\n",
              "    <tr>\n",
              "      <th>2020-12-22 17:43:50</th>\n",
              "      <td>csXPB3W7F54</td>\n",
              "      <td>ws-rcv-pid-1</td>\n",
              "      <td>ve100</td>\n",
              "      <td>AFTMoveApp</td>\n",
              "      <td>robegarq</td>\n",
              "    </tr>\n",
              "    <tr>\n",
              "      <th>2020-12-22 17:44:01</th>\n",
              "      <td>csXPB3WBWQ9</td>\n",
              "      <td>ws-rcv-pid-1</td>\n",
              "      <td>ve100</td>\n",
              "      <td>AFTMoveApp</td>\n",
              "      <td>robegarq</td>\n",
              "    </tr>\n",
              "    <tr>\n",
              "      <th>2020-12-22 17:44:05</th>\n",
              "      <td>csXPB3W7F5S</td>\n",
              "      <td>ws-rcv-pid-1</td>\n",
              "      <td>ve100</td>\n",
              "      <td>AFTMoveApp</td>\n",
              "      <td>robegarq</td>\n",
              "    </tr>\n",
              "    <tr>\n",
              "      <th>2020-12-23 20:32:40</th>\n",
              "      <td>csXPC9K24D3</td>\n",
              "      <td>ws-rcv-pid-1</td>\n",
              "      <td>ve100</td>\n",
              "      <td>AFTMoveApp</td>\n",
              "      <td>melviroq</td>\n",
              "    </tr>\n",
              "    <tr>\n",
              "      <th>2020-12-23 21:15:20</th>\n",
              "      <td>csXPC9K23H4</td>\n",
              "      <td>ws-rcv-pid-1</td>\n",
              "      <td>ve100</td>\n",
              "      <td>AFTMoveApp</td>\n",
              "      <td>habchy</td>\n",
              "    </tr>\n",
              "    <tr>\n",
              "      <th>2020-12-23 23:10:24</th>\n",
              "      <td>csXPB3ZVR8L</td>\n",
              "      <td>ws-rcv-pid-1</td>\n",
              "      <td>ve100</td>\n",
              "      <td>AFTMoveApp</td>\n",
              "      <td>lopezlpj</td>\n",
              "    </tr>\n",
              "    <tr>\n",
              "      <th>2020-12-23 23:11:33</th>\n",
              "      <td>csXPC9K2ZQN</td>\n",
              "      <td>ws-rcv-pid-1</td>\n",
              "      <td>ve100</td>\n",
              "      <td>AFTMoveApp</td>\n",
              "      <td>lopezlpj</td>\n",
              "    </tr>\n",
              "  </tbody>\n",
              "</table>\n",
              "</div>"
            ],
            "text/plain": [
              "                    scannable_id    moved_from  ... requested_by_client  moved_by\n",
              "move_date                                       ...                              \n",
              "2020-12-22 17:43:50  csXPB3W7F54  ws-rcv-pid-1  ...          AFTMoveApp  robegarq\n",
              "2020-12-22 17:44:01  csXPB3WBWQ9  ws-rcv-pid-1  ...          AFTMoveApp  robegarq\n",
              "2020-12-22 17:44:05  csXPB3W7F5S  ws-rcv-pid-1  ...          AFTMoveApp  robegarq\n",
              "2020-12-23 20:32:40  csXPC9K24D3  ws-rcv-pid-1  ...          AFTMoveApp  melviroq\n",
              "2020-12-23 21:15:20  csXPC9K23H4  ws-rcv-pid-1  ...          AFTMoveApp    habchy\n",
              "2020-12-23 23:10:24  csXPB3ZVR8L  ws-rcv-pid-1  ...          AFTMoveApp  lopezlpj\n",
              "2020-12-23 23:11:33  csXPC9K2ZQN  ws-rcv-pid-1  ...          AFTMoveApp  lopezlpj\n",
              "\n",
              "[7 rows x 5 columns]"
            ]
          },
          "metadata": {
            "tags": []
          },
          "execution_count": 49
        }
      ]
    },
    {
      "cell_type": "code",
      "metadata": {
        "colab": {
          "base_uri": "https://localhost:8080/",
          "height": 353
        },
        "id": "uiImkKcrdIUO",
        "outputId": "0d41222c-b5de-45b3-c16a-e8c31f5d37d7"
      },
      "source": [
        "# make data binary for time series visuals\r\n",
        "c2c_ref_binary = unique_to_c2c[unique_to_c2c.moved_to == ve]\r\n",
        "c2c_ref_binary[\"missed_scan\"] = 1\r\n",
        "c2c_ref_binary.drop(columns = ['container_move_segment_id', 'container_type', \r\n",
        "                                       'scannable_id', 'moved_from', 'moved_to', \r\n",
        "                                       'requested_by_client', 'moved_by']\r\n",
        "                                        , inplace = True)\r\n",
        "##### Change the times\r\n",
        "df_time = pd.DataFrame(index = pd.date_range('2020-12-22 15:00:00','2020-12-24 02:30:00', freq='S'))\r\n",
        "c2c_ref_binary = pd.merge(df_time, c2c_ref_binary, left_index = True, right_index = True, how = 'left')\r\n",
        "c2c_ref_binary = c2c_ref_binary.resample('S').asfreq().fillna(0)\r\n",
        "\r\n",
        "# stow vehicle specific data\r\n",
        "stow_data2inspect = stow[stow.moved_to == ve]\r\n",
        "stow_data2inspect.drop(columns = ['container_move_segment_id', 'container_type'], inplace= True)\r\n",
        "\r\n",
        "#############################\r\n",
        "ve = c2c_ref.moved_to.iloc[0]\r\n",
        "#############################\r\n",
        "stow_data2inspect = stow[stow.moved_from== ve]\r\n",
        "stow_data2inspect.drop(columns = ['container_move_segment_id', 'container_type',\r\n",
        "                               'scannable_id', 'moved_from', 'moved_to',\r\n",
        "                               'requested_by_client', 'moved_by']\r\n",
        "                               , inplace= True)\r\n",
        "\r\n",
        "stow_data2inspect['stow_scans'] = 1\r\n",
        "stow_data2inspect_binary = stow_data2inspect.resample('S').asfreq().fillna(0)\r\n",
        "\r\n",
        "ax = stow_data2inspect_binary.plot()\r\n",
        "\r\n",
        "c2c_ref_binary.plot(ax=ax, figsize=(25,5))\r\n",
        "\r\n",
        "plt.title(\"Time series of stow and c2c scans for \"+ str(ve) , fontsize=20)\r\n",
        "plt.legend(title= 'Legend', loc = 'upper right', bbox_to_anchor=(1.15, 1))\r\n",
        "plt.xlabel('time', fontsize=16)\r\n",
        "plt.ylabel('Hit', fontsize=16)\r\n",
        "plt.xticks(fontsize=14, rotation=0)\r\n",
        "plt.show()"
      ],
      "execution_count": null,
      "outputs": [
        {
          "output_type": "display_data",
          "data": {
            "image/png": "[encoded data removed]",
            "text/plain": [
              "<Figure size 1800x360 with 1 Axes>"
            ]
          },
          "metadata": {
            "tags": [],
            "needs_background": "light"
          }
        }
      ]
    },
    {
      "cell_type": "markdown",
      "metadata": {
        "id": "bCKb3lg2eZKk"
      },
      "source": [
        "# Generate pathway"
      ]
    },
    {
      "cell_type": "code",
      "metadata": {
        "id": "oPSdWMtid6QC"
      },
      "source": [
        "# Here is a simple function to get all the problem cases and backtrack to potential offenders\r\n",
        "ve = c2c_ref.moved_to.iloc[0]\r\n",
        "stow_data2inspect = stow[stow.moved_from == ve]\r\n",
        "stow_data2inspect.drop(columns = ['container_move_segment_id', 'container_type',\r\n",
        "                               'scannable_id', 'moved_from', 'moved_to',\r\n",
        "                               'requested_by_client']\r\n",
        "                               , inplace= True)"
      ],
      "execution_count": null,
      "outputs": []
    },
    {
      "cell_type": "code",
      "metadata": {
        "colab": {
          "base_uri": "https://localhost:8080/",
          "height": 527
        },
        "id": "pZCnsuwXeiT3",
        "outputId": "6decb8fe-fce7-4263-b824-e3116b5282d2"
      },
      "source": [
        "date_idx = c2c_ref_binary.loc[c2c_ref_binary['missed_scan'] == 1].index\r\n",
        "#date_idx = c2c_ref.index\r\n",
        "\r\n",
        "stow_offenders = [] \r\n",
        "stowtimes = []  #\r\n",
        "for i in date_idx:\r\n",
        "  try:\r\n",
        "    stow_offender = stow_data2inspect[stow_data2inspect.index > i].head(1)\r\n",
        "    name = stow_offender.moved_by.iloc[0]\r\n",
        "    stow_offenders.append(name)\r\n",
        "\r\n",
        "    date = stow_offender.iloc[0] #\r\n",
        "    stowtimes.append(date)       #\r\n",
        "  except Exception:\r\n",
        "    pass\r\n",
        "\r\n",
        "\r\n",
        "\r\n",
        "\r\n",
        "# plot the frequency per c2cers\r\n",
        "try:\r\n",
        "  scan_counts = Counter(stow_offenders)\r\n",
        "  scan_counts = {k: v for k, v in sorted(scan_counts.items(), key=lambda item: item[1], reverse=True)}\r\n",
        "  df_a = pd.DataFrame.from_dict(scan_counts, orient='index')\r\n",
        "  df_a.plot(kind='bar', figsize=(10,8),  width = .5, legend = None)\r\n",
        "  plt.title(\"Intances of csX left Virtually Attached to \" + ve + \" (Dirty Cage)\" , fontsize=20)\r\n",
        "  plt.xlabel('Stower Login', fontsize=16)\r\n",
        "  plt.ylabel('Volume (# of cases)', fontsize=16)\r\n",
        "  plt.xticks(fontsize=14, rotation=0)\r\n",
        "  plt.show()\r\n",
        "except:\r\n",
        "  pass"
      ],
      "execution_count": null,
      "outputs": [
        {
          "output_type": "display_data",
          "data": {
            "image/png": "[encoded data removed]",
            "text/plain": [
              "<Figure size 720x576 with 1 Axes>"
            ]
          },
          "metadata": {
            "tags": [],
            "needs_background": "light"
          }
        }
      ]
    },
    {
      "cell_type": "code",
      "metadata": {
        "colab": {
          "base_uri": "https://localhost:8080/"
        },
        "id": "dTSNJuu-gT4g",
        "outputId": "2b4b8627-8c99-4c1a-ba9b-44865174ab69"
      },
      "source": [
        "print(\"list of offenders:\", np.unique(stow_offenders))"
      ],
      "execution_count": null,
      "outputs": [
        {
          "output_type": "stream",
          "text": [
            "list of offenders: ['carjorgw' 'perezmgu' 'yasmrami' 'zhermzn']\n"
          ],
          "name": "stdout"
        }
      ]
    },
    {
      "cell_type": "code",
      "metadata": {
        "colab": {
          "base_uri": "https://localhost:8080/",
          "height": 300
        },
        "id": "1Tw88BxRfLEt",
        "outputId": "c277906b-2617-49a4-8917-dee028d74a82"
      },
      "source": [
        "c2c_ref"
      ],
      "execution_count": null,
      "outputs": [
        {
          "output_type": "execute_result",
          "data": {
            "text/html": [
              "<div>\n",
              "<style scoped>\n",
              "    .dataframe tbody tr th:only-of-type {\n",
              "        vertical-align: middle;\n",
              "    }\n",
              "\n",
              "    .dataframe tbody tr th {\n",
              "        vertical-align: top;\n",
              "    }\n",
              "\n",
              "    .dataframe thead th {\n",
              "        text-align: right;\n",
              "    }\n",
              "</style>\n",
              "<table border=\"1\" class=\"dataframe\">\n",
              "  <thead>\n",
              "    <tr style=\"text-align: right;\">\n",
              "      <th></th>\n",
              "      <th>scannable_id</th>\n",
              "      <th>moved_from</th>\n",
              "      <th>moved_to</th>\n",
              "      <th>requested_by_client</th>\n",
              "      <th>moved_by</th>\n",
              "    </tr>\n",
              "    <tr>\n",
              "      <th>move_date</th>\n",
              "      <th></th>\n",
              "      <th></th>\n",
              "      <th></th>\n",
              "      <th></th>\n",
              "      <th></th>\n",
              "    </tr>\n",
              "  </thead>\n",
              "  <tbody>\n",
              "    <tr>\n",
              "      <th>2020-12-22 17:43:50</th>\n",
              "      <td>csXPB3W7F54</td>\n",
              "      <td>ws-rcv-pid-1</td>\n",
              "      <td>ve100</td>\n",
              "      <td>AFTMoveApp</td>\n",
              "      <td>robegarq</td>\n",
              "    </tr>\n",
              "    <tr>\n",
              "      <th>2020-12-22 17:44:01</th>\n",
              "      <td>csXPB3WBWQ9</td>\n",
              "      <td>ws-rcv-pid-1</td>\n",
              "      <td>ve100</td>\n",
              "      <td>AFTMoveApp</td>\n",
              "      <td>robegarq</td>\n",
              "    </tr>\n",
              "    <tr>\n",
              "      <th>2020-12-22 17:44:05</th>\n",
              "      <td>csXPB3W7F5S</td>\n",
              "      <td>ws-rcv-pid-1</td>\n",
              "      <td>ve100</td>\n",
              "      <td>AFTMoveApp</td>\n",
              "      <td>robegarq</td>\n",
              "    </tr>\n",
              "    <tr>\n",
              "      <th>2020-12-23 20:32:40</th>\n",
              "      <td>csXPC9K24D3</td>\n",
              "      <td>ws-rcv-pid-1</td>\n",
              "      <td>ve100</td>\n",
              "      <td>AFTMoveApp</td>\n",
              "      <td>melviroq</td>\n",
              "    </tr>\n",
              "    <tr>\n",
              "      <th>2020-12-23 21:15:20</th>\n",
              "      <td>csXPC9K23H4</td>\n",
              "      <td>ws-rcv-pid-1</td>\n",
              "      <td>ve100</td>\n",
              "      <td>AFTMoveApp</td>\n",
              "      <td>habchy</td>\n",
              "    </tr>\n",
              "    <tr>\n",
              "      <th>2020-12-23 23:10:24</th>\n",
              "      <td>csXPB3ZVR8L</td>\n",
              "      <td>ws-rcv-pid-1</td>\n",
              "      <td>ve100</td>\n",
              "      <td>AFTMoveApp</td>\n",
              "      <td>lopezlpj</td>\n",
              "    </tr>\n",
              "    <tr>\n",
              "      <th>2020-12-23 23:11:33</th>\n",
              "      <td>csXPC9K2ZQN</td>\n",
              "      <td>ws-rcv-pid-1</td>\n",
              "      <td>ve100</td>\n",
              "      <td>AFTMoveApp</td>\n",
              "      <td>lopezlpj</td>\n",
              "    </tr>\n",
              "  </tbody>\n",
              "</table>\n",
              "</div>"
            ],
            "text/plain": [
              "                    scannable_id    moved_from  ... requested_by_client  moved_by\n",
              "move_date                                       ...                              \n",
              "2020-12-22 17:43:50  csXPB3W7F54  ws-rcv-pid-1  ...          AFTMoveApp  robegarq\n",
              "2020-12-22 17:44:01  csXPB3WBWQ9  ws-rcv-pid-1  ...          AFTMoveApp  robegarq\n",
              "2020-12-22 17:44:05  csXPB3W7F5S  ws-rcv-pid-1  ...          AFTMoveApp  robegarq\n",
              "2020-12-23 20:32:40  csXPC9K24D3  ws-rcv-pid-1  ...          AFTMoveApp  melviroq\n",
              "2020-12-23 21:15:20  csXPC9K23H4  ws-rcv-pid-1  ...          AFTMoveApp    habchy\n",
              "2020-12-23 23:10:24  csXPB3ZVR8L  ws-rcv-pid-1  ...          AFTMoveApp  lopezlpj\n",
              "2020-12-23 23:11:33  csXPC9K2ZQN  ws-rcv-pid-1  ...          AFTMoveApp  lopezlpj\n",
              "\n",
              "[7 rows x 5 columns]"
            ]
          },
          "metadata": {
            "tags": []
          },
          "execution_count": 54
        }
      ]
    },
    {
      "cell_type": "code",
      "metadata": {
        "colab": {
          "base_uri": "https://localhost:8080/",
          "height": 36
        },
        "id": "BxnEpDMboIbV",
        "outputId": "39f0f398-3cb9-4efc-f700-120e2b1b8f3f"
      },
      "source": [
        "c2c_ref.scannable_id[1]"
      ],
      "execution_count": null,
      "outputs": [
        {
          "output_type": "execute_result",
          "data": {
            "application/vnd.google.colaboratory.intrinsic+json": {
              "type": "string"
            },
            "text/plain": [
              "'csXPB3WBWQ9'"
            ]
          },
          "metadata": {
            "tags": []
          },
          "execution_count": 126
        }
      ]
    },
    {
      "cell_type": "code",
      "metadata": {
        "id": "4MHsH1nAVDGs"
      },
      "source": [
        ""
      ],
      "execution_count": null,
      "outputs": []
    },
    {
      "cell_type": "code",
      "metadata": {
        "colab": {
          "base_uri": "https://localhost:8080/",
          "height": 645
        },
        "id": "Q96yoGIDfA9F",
        "outputId": "29bee3e0-9646-4296-e9b9-e35b9305984e"
      },
      "source": [
        "i = 4\r\n",
        "\r\n",
        "t_startStow = pd.DataFrame(stowtimes).index\r\n",
        "#\r\n",
        "path = stow.loc[(stow.index >= t_startStow[i]) & (stow.moved_by == stow_offenders[i])  & (stow.moved_from == ve)]\r\n",
        "\r\n",
        "\r\n",
        "# couple or pivot to find csx based on common paths (bins)\r\n",
        "pd.DataFrame(path.moved_to.unique())"
      ],
      "execution_count": null,
      "outputs": [
        {
          "output_type": "execute_result",
          "data": {
            "text/html": [
              "<div>\n",
              "<style scoped>\n",
              "    .dataframe tbody tr th:only-of-type {\n",
              "        vertical-align: middle;\n",
              "    }\n",
              "\n",
              "    .dataframe tbody tr th {\n",
              "        vertical-align: top;\n",
              "    }\n",
              "\n",
              "    .dataframe thead th {\n",
              "        text-align: right;\n",
              "    }\n",
              "</style>\n",
              "<table border=\"1\" class=\"dataframe\">\n",
              "  <thead>\n",
              "    <tr style=\"text-align: right;\">\n",
              "      <th></th>\n",
              "      <th>0</th>\n",
              "    </tr>\n",
              "  </thead>\n",
              "  <tbody>\n",
              "    <tr>\n",
              "      <th>0</th>\n",
              "      <td>P-1-V114D202</td>\n",
              "    </tr>\n",
              "    <tr>\n",
              "      <th>1</th>\n",
              "      <td>P-1-V115K212</td>\n",
              "    </tr>\n",
              "    <tr>\n",
              "      <th>2</th>\n",
              "      <td>P-1-V115L212</td>\n",
              "    </tr>\n",
              "    <tr>\n",
              "      <th>3</th>\n",
              "      <td>P-1-V114H490</td>\n",
              "    </tr>\n",
              "    <tr>\n",
              "      <th>4</th>\n",
              "      <td>P-1-V113J532</td>\n",
              "    </tr>\n",
              "    <tr>\n",
              "      <th>5</th>\n",
              "      <td>P-1-V113J492</td>\n",
              "    </tr>\n",
              "    <tr>\n",
              "      <th>6</th>\n",
              "      <td>P-1-V113G492</td>\n",
              "    </tr>\n",
              "    <tr>\n",
              "      <th>7</th>\n",
              "      <td>P-1-V113G472</td>\n",
              "    </tr>\n",
              "    <tr>\n",
              "      <th>8</th>\n",
              "      <td>P-1-V113K472</td>\n",
              "    </tr>\n",
              "    <tr>\n",
              "      <th>9</th>\n",
              "      <td>P-1-V112G472</td>\n",
              "    </tr>\n",
              "    <tr>\n",
              "      <th>10</th>\n",
              "      <td>P-1-V104H412</td>\n",
              "    </tr>\n",
              "    <tr>\n",
              "      <th>11</th>\n",
              "      <td>P-1-V104G290</td>\n",
              "    </tr>\n",
              "    <tr>\n",
              "      <th>12</th>\n",
              "      <td>P-1-V104H242</td>\n",
              "    </tr>\n",
              "    <tr>\n",
              "      <th>13</th>\n",
              "      <td>P-1-V104H230</td>\n",
              "    </tr>\n",
              "    <tr>\n",
              "      <th>14</th>\n",
              "      <td>P-1-V105K222</td>\n",
              "    </tr>\n",
              "    <tr>\n",
              "      <th>15</th>\n",
              "      <td>P-1-V105M230</td>\n",
              "    </tr>\n",
              "    <tr>\n",
              "      <th>16</th>\n",
              "      <td>P-1-V104M230</td>\n",
              "    </tr>\n",
              "    <tr>\n",
              "      <th>17</th>\n",
              "      <td>P-1-V104M232</td>\n",
              "    </tr>\n",
              "    <tr>\n",
              "      <th>18</th>\n",
              "      <td>P-1-V105L232</td>\n",
              "    </tr>\n",
              "  </tbody>\n",
              "</table>\n",
              "</div>"
            ],
            "text/plain": [
              "               0\n",
              "0   P-1-V114D202\n",
              "1   P-1-V115K212\n",
              "2   P-1-V115L212\n",
              "3   P-1-V114H490\n",
              "4   P-1-V113J532\n",
              "5   P-1-V113J492\n",
              "6   P-1-V113G492\n",
              "7   P-1-V113G472\n",
              "8   P-1-V113K472\n",
              "9   P-1-V112G472\n",
              "10  P-1-V104H412\n",
              "11  P-1-V104G290\n",
              "12  P-1-V104H242\n",
              "13  P-1-V104H230\n",
              "14  P-1-V105K222\n",
              "15  P-1-V105M230\n",
              "16  P-1-V104M230\n",
              "17  P-1-V104M232\n",
              "18  P-1-V105L232"
            ]
          },
          "metadata": {
            "tags": []
          },
          "execution_count": 89
        }
      ]
    },
    {
      "cell_type": "code",
      "metadata": {
        "colab": {
          "base_uri": "https://localhost:8080/",
          "height": 614
        },
        "id": "_CJqTjoSgLRW",
        "outputId": "5c7417ee-70b3-4ba1-e37e-922d4c4022a2"
      },
      "source": [
        "x = pd.DataFrame()\r\n",
        "for i in range(len(c2c_ref)):\r\n",
        "  t_startStow = pd.DataFrame(stowtimes).index\r\n",
        "  #\r\n",
        "  path = stow.loc[(stow.index >= t_startStow[i]) & (stow.moved_by == stow_offenders[i])  & (stow.moved_from == ve)]\r\n",
        "  # couple or pivot to find csx based on common paths (bins)\r\n",
        "  path = pd.DataFrame(path.moved_to.unique())\r\n",
        "  col = c2c_ref.scannable_id[i]\r\n",
        "  path.rename(columns={0: col})\r\n",
        "  x = x.append(path)\r\n",
        "\r\n",
        "# combine all paths and get \r\n",
        "#pd.DataFrame((x[0].unique()))\r\n",
        "\r\n",
        "# plot the frequency per c2cers\r\n",
        "try:\r\n",
        "  scan_counts = Counter(x[0])\r\n",
        "  scan_counts = {k: v for k, v in sorted(scan_counts.items(), key=lambda item: item[1], reverse=True)}\r\n",
        "  df_a = pd.DataFrame.from_dict(scan_counts, orient='index')\r\n",
        "  df_a.plot(kind='bar', figsize=(20,8),  width = .5, legend = None)\r\n",
        "  plt.title(\"Intances of csX left Virtually Attached to \" + ve + \" (Dirty Cage)\" , fontsize=20)\r\n",
        "  plt.xlabel('Stower Login', fontsize=16)\r\n",
        "  plt.ylabel('Volume (# of cases)', fontsize=16)\r\n",
        "  plt.xticks(fontsize=14, rotation=90)\r\n",
        "  plt.show()\r\n",
        "except:\r\n",
        "  pass"
      ],
      "execution_count": null,
      "outputs": [
        {
          "output_type": "display_data",
          "data": {
            "image/png": "[encoded data removed]",
            "text/plain": [
              "<Figure size 1440x576 with 1 Axes>"
            ]
          },
          "metadata": {
            "tags": [],
            "needs_background": "light"
          }
        }
      ]
    },
    {
      "cell_type": "code",
      "metadata": {
        "colab": {
          "base_uri": "https://localhost:8080/"
        },
        "id": "dPm3U2L0p1WV",
        "outputId": "43848136-ef34-4215-9712-50d671a59207"
      },
      "source": [
        "x = pd.DataFrame()\r\n",
        "for i in range(len(c2c_ref)):\r\n",
        "  t_startStow = pd.DataFrame(stowtimes).index\r\n",
        "  #\r\n",
        "  path = stow.loc[(stow.index >= t_startStow[i]) & (stow.moved_by == stow_offenders[i])  & (stow.moved_from == ve)]\r\n",
        "  # couple or pivot to find csx based on common paths (bins)\r\n",
        "  path = pd.DataFrame(path.moved_to.unique())\r\n",
        "  col = c2c_ref.scannable_id[i]\r\n",
        "  path.rename(columns={ path.columns[0]: col })\r\n",
        "  print(\" \")\r\n",
        "  print(col)\r\n",
        "  print(path)\r\n"
      ],
      "execution_count": null,
      "outputs": [
        {
          "output_type": "stream",
          "text": [
            " \n",
            "csXPB3W7F54\n",
            "               0\n",
            "0   P-1-V200H422\n",
            "1   P-1-V200J422\n",
            "2   P-1-V200L402\n",
            "3   P-1-V201L362\n",
            "4   P-1-V190H502\n",
            "5   P-1-V191J542\n",
            "6   P-1-V190K562\n",
            "7   P-1-V190L570\n",
            "8   P-1-V190L572\n",
            "9   P-1-V191M572\n",
            "10  P-1-V191M582\n",
            "11  P-1-V190M582\n",
            " \n",
            "csXPB3WBWQ9\n",
            "               0\n",
            "0   P-1-V200H422\n",
            "1   P-1-V200J422\n",
            "2   P-1-V200L402\n",
            "3   P-1-V201L362\n",
            "4   P-1-V190H502\n",
            "5   P-1-V191J542\n",
            "6   P-1-V190K562\n",
            "7   P-1-V190L570\n",
            "8   P-1-V190L572\n",
            "9   P-1-V191M572\n",
            "10  P-1-V191M582\n",
            "11  P-1-V190M582\n",
            " \n",
            "csXPB3W7F5S\n",
            "               0\n",
            "0   P-1-V200H422\n",
            "1   P-1-V200J422\n",
            "2   P-1-V200L402\n",
            "3   P-1-V201L362\n",
            "4   P-1-V190H502\n",
            "5   P-1-V191J542\n",
            "6   P-1-V190K562\n",
            "7   P-1-V190L570\n",
            "8   P-1-V190L572\n",
            "9   P-1-V191M572\n",
            "10  P-1-V191M582\n",
            "11  P-1-V190M582\n",
            " \n",
            "csXPC9K24D3\n",
            "              0\n",
            "0  P-1-V199K460\n",
            "1  P-1-V198K460\n",
            "2  P-1-V199F480\n",
            "3  P-1-V199F530\n",
            "4  P-1-V199M530\n",
            "5  P-1-V198M530\n",
            " \n",
            "csXPC9K23H4\n",
            "               0\n",
            "0   P-1-V114D202\n",
            "1   P-1-V115K212\n",
            "2   P-1-V115L212\n",
            "3   P-1-V114H490\n",
            "4   P-1-V113J532\n",
            "5   P-1-V113J492\n",
            "6   P-1-V113G492\n",
            "7   P-1-V113G472\n",
            "8   P-1-V113K472\n",
            "9   P-1-V112G472\n",
            "10  P-1-V104H412\n",
            "11  P-1-V104G290\n",
            "12  P-1-V104H242\n",
            "13  P-1-V104H230\n",
            "14  P-1-V105K222\n",
            "15  P-1-V105M230\n",
            "16  P-1-V104M230\n",
            "17  P-1-V104M232\n",
            "18  P-1-V105L232\n",
            " \n",
            "csXPB3ZVR8L\n",
            "              0\n",
            "0  P-1-V193M482\n",
            "1  P-1-V193L482\n",
            "2  P-1-V192M482\n",
            "3  P-1-V192L482\n",
            "4  P-1-V193M480\n",
            "5  P-1-V193L480\n",
            "6  P-1-V193M470\n",
            " \n",
            "csXPC9K2ZQN\n",
            "              0\n",
            "0  P-1-V193M482\n",
            "1  P-1-V193L482\n",
            "2  P-1-V192M482\n",
            "3  P-1-V192L482\n",
            "4  P-1-V193M480\n",
            "5  P-1-V193L480\n",
            "6  P-1-V193M470\n"
          ],
          "name": "stdout"
        }
      ]
    },
    {
      "cell_type": "markdown",
      "metadata": {
        "id": "V1KDKAyt2tWo"
      },
      "source": [
        "It is more probable to find cases with shorter paths so prioritize the paths. \r\n",
        "Compare this by concatinating all paths and seeing which bins were hit the most, deeming them the most probable defect. \r\n",
        "\r\n",
        "Experiment on its way. "
      ]
    },
    {
      "cell_type": "code",
      "metadata": {
        "id": "i7bRKrTtBJdG"
      },
      "source": [
        ""
      ],
      "execution_count": null,
      "outputs": []
    },
    {
      "cell_type": "code",
      "metadata": {
        "id": "pHBsUYLoqECk"
      },
      "source": [
        ""
      ],
      "execution_count": null,
      "outputs": []
    }
  ]
}